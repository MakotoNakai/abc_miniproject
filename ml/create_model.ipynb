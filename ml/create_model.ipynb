{
  "nbformat": 4,
  "nbformat_minor": 0,
  "metadata": {
    "colab": {
      "name": "create_model.ipynb",
      "provenance": [],
      "collapsed_sections": []
    },
    "kernelspec": {
      "name": "python3",
      "display_name": "Python 3"
    },
    "language_info": {
      "name": "python"
    }
  },
  "cells": [
    {
      "cell_type": "code",
      "execution_count": 1,
      "metadata": {
        "id": "MROowaHBrAqV"
      },
      "outputs": [],
      "source": [
        "from pandas.errors import ParserError\n",
        "from io import StringIO\n",
        "import pandas as pd\n",
        "import numpy as np\n",
        "import zipfile\n",
        "import glob"
      ]
    },
    {
      "cell_type": "code",
      "source": [
        "with zipfile.ZipFile('/content/hw2_dataset.zip') as existing_zip:\n",
        "    existing_zip.extractall()"
      ],
      "metadata": {
        "id": "chvDOL96thp4"
      },
      "execution_count": 2,
      "outputs": []
    },
    {
      "cell_type": "code",
      "source": [
        "# sitの時のデータ\n",
        "data_sit_list = []\n",
        "\n",
        "# walkの時のデータ\n",
        "data_walk_list = []\n",
        "\n",
        "# stepsの時のデータ\n",
        "data_steps_list = []\n",
        "\n",
        "dirs = glob.glob('/content/hw2_dataset/*')\n",
        "\n",
        "# columnsが条件を満たすデータだけを抽出する\n",
        "# sitのラベルはラベルは0、walkのラベルは1、stepsのデータは2にする\n",
        "for dir in dirs:\n",
        "\n",
        "  dir_sit = glob.glob(dir + '/*sit*')\n",
        "  for sit_file in dir_sit:\n",
        "    try:\n",
        "      data_sit = pd.read_csv(sit_file)\n",
        "      if list(data_sit.columns) == ['xmax', 'xmin', 'xave', 'xvar', 'ymax', 'ymin', 'yave', 'yvar', 'zmax', 'zmin', 'zave', 'zvar']:\n",
        "        data_sit['label'] = 0\n",
        "        data_sit_list.append(data_sit)\n",
        "    except ParserError:\n",
        "      pass\n",
        "    except UnicodeDecodeError:\n",
        "      pass\n",
        "    \n",
        "  dir_walk = glob.glob(dir + '/*walk*')\n",
        "  for walk_file in dir_walk:\n",
        "    try:\n",
        "      data_walk = pd.read_csv(walk_file)\n",
        "      if list(data_walk.columns) == ['xmax', 'xmin', 'xave', 'xvar', 'ymax', 'ymin', 'yave', 'yvar', 'zmax', 'zmin', 'zave', 'zvar']:\n",
        "        data_walk['label'] = 1\n",
        "        data_walk_list.append(data_walk)\n",
        "    except ParserError:\n",
        "      pass\n",
        "\n",
        "  dir_steps = glob.glob(dir + '/*steps*')\n",
        "  for steps_file in dir_walk:\n",
        "    try:\n",
        "      data_steps = pd.read_csv(steps_file)\n",
        "      if list(data_steps.columns) == ['xmax', 'xmin', 'xave', 'xvar', 'ymax', 'ymin', 'yave', 'yvar', 'zmax', 'zmin', 'zave', 'zvar']:\n",
        "        data_steps['label'] = 2\n",
        "        data_steps_list.append(data_steps)\n",
        "    except ParserError:\n",
        "      pass\n",
        "\n"
      ],
      "metadata": {
        "id": "g4VFEuaPkJmx"
      },
      "execution_count": 87,
      "outputs": []
    },
    {
      "cell_type": "code",
      "source": [
        "# sitのデータをcsv化する\n",
        "df_sit = pd.concat(data_sit_list, axis=0, sort=True)\n",
        "df_sit.to_csv(\"/content/sit.csv\",index=False)\n",
        "\n",
        "# walkのデータをcsv化する\n",
        "df_walk = pd.concat(data_walk_list, axis=0, sort=True)\n",
        "df_walk.to_csv(\"/content/walk.csv\",index=False)\n",
        "\n",
        "# stepsのデータをcsv化する\n",
        "df_steps = pd.concat(data_steps_list, axis=0, sort=True)\n",
        "df_steps.to_csv(\"/content/steps.csv\",index=False)\n",
        "\n",
        "# 学習データ全体のcsvファイルを作成する\n",
        "df_list = [df_sit, df_walk, df_steps]\n",
        "df = pd.concat(df_list, axis=0, sort=True)\n",
        "df.to_csv(\"/content/data.csv\",index=False)"
      ],
      "metadata": {
        "id": "ByRGF8SRys8Y"
      },
      "execution_count": 4,
      "outputs": []
    },
    {
      "cell_type": "code",
      "source": [
        "# csvの中を抽出する\n",
        "df = pd.read_csv(\"/content/data.csv\")"
      ],
      "metadata": {
        "id": "ZMzVVLg84REF"
      },
      "execution_count": 88,
      "outputs": []
    },
    {
      "cell_type": "code",
      "source": [
        "# 欠損したデータの処理をする\n",
        "df = df.fillna(df.mean())\n",
        "\n",
        "df_zvar_error = list(df[\"zvar\"])\n",
        "\n",
        "df_zvar = []\n",
        "for val in df_zvar_error:\n",
        "  if val == '0.0294917sit3':\n",
        "    val = np.nan\n",
        "  df_zvar.append(val)\n",
        "  \n",
        "df[\"zvar\"] = df_zvar\n",
        "df[\"zvar\"] = df[\"zvar\"].fillna(method=\"ffill\")"
      ],
      "metadata": {
        "id": "2RFheP5zBbXp"
      },
      "execution_count": 78,
      "outputs": []
    },
    {
      "cell_type": "code",
      "source": [
        "#ラベルを数値化\n",
        "x = df.iloc[:, 1:13]\n",
        "x = x.astype(\"float32\")\n",
        "y = df.pop('label')"
      ],
      "metadata": {
        "id": "HLPfdYsM49mk"
      },
      "execution_count": 79,
      "outputs": []
    },
    {
      "cell_type": "code",
      "source": [
        "#学習データと検証データを分割\n",
        "from sklearn.model_selection import train_test_split\n",
        "x_train, x_test, y_train, y_test = train_test_split(x, y, test_size = 0.2)"
      ],
      "metadata": {
        "id": "eph6PmTCX87m"
      },
      "execution_count": 80,
      "outputs": []
    },
    {
      "cell_type": "code",
      "source": [
        "import numpy as np\n",
        "# import tensorflow as tf\n",
        "# from tensorflow import keras\n",
        "from tensorflow.keras import layers, Input, Model, losses, optimizers, models\n",
        "from tensorflow.keras.utils import to_categorical"
      ],
      "metadata": {
        "id": "oUSSb3qFCkpz"
      },
      "execution_count": 81,
      "outputs": []
    },
    {
      "cell_type": "code",
      "source": [
        "# ラベルデータをone-hot vectorに変換する\n",
        "y_train = to_categorical(y_train)\n",
        "y_test = to_categorical(y_test)"
      ],
      "metadata": {
        "id": "DHA1rQ10-jpG"
      },
      "execution_count": 82,
      "outputs": []
    },
    {
      "cell_type": "code",
      "source": [
        "# ニューラルネットワークを定義する\n",
        "inputs = Input(shape=(12,))\n",
        "\n",
        "dense = layers.Dense(32, activation=\"relu\")\n",
        "x = dense(inputs)\n",
        "\n",
        "dense2 = layers.Dense(64, activation=\"relu\")\n",
        "x2 = dense2(x)\n",
        "\n",
        "dense3 = layers.Dense(3, activation=\"softmax\")\n",
        "outputs = dense3(x)"
      ],
      "metadata": {
        "id": "Ib-ZovyMlIN5"
      },
      "execution_count": 83,
      "outputs": []
    },
    {
      "cell_type": "code",
      "source": [
        "# モデルを作成する\n",
        "model = Model(inputs=inputs, outputs=outputs, name=\"abc_model\")"
      ],
      "metadata": {
        "id": "c2t7WWf4lgAk"
      },
      "execution_count": 84,
      "outputs": []
    },
    {
      "cell_type": "code",
      "source": [
        "# モデルのパラメータを指定する\n",
        "model.compile(\n",
        "    loss=losses.CategoricalCrossentropy(),\n",
        "    optimizer=optimizers.Adam(lr=1e-1),\n",
        "    metrics=[\"accuracy\"],\n",
        ")\n",
        "\n",
        "# 学習させる\n",
        "history = model.fit(x_train, y_train, batch_size=32, epochs=100, validation_split=0.2)\n",
        "\n",
        "# テストデータで正答率を確認する\n",
        "test_scores = model.evaluate(x_test, y_test, verbose=2)\n",
        "print(\"Test loss:\", test_scores[0])\n",
        "print(\"Test accuracy:\", test_scores[1])"
      ],
      "metadata": {
        "colab": {
          "base_uri": "https://localhost:8080/"
        },
        "id": "1xwSnOuilj2Y",
        "outputId": "3fda2de5-2fb6-402d-d595-fa9b3db295dd"
      },
      "execution_count": 85,
      "outputs": [
        {
          "output_type": "stream",
          "name": "stderr",
          "text": [
            "/usr/local/lib/python3.7/dist-packages/keras/optimizer_v2/adam.py:105: UserWarning: The `lr` argument is deprecated, use `learning_rate` instead.\n",
            "  super(Adam, self).__init__(name, **kwargs)\n"
          ]
        },
        {
          "output_type": "stream",
          "name": "stdout",
          "text": [
            "Epoch 1/100\n",
            "32/32 [==============================] - 1s 12ms/step - loss: 43.7183 - accuracy: 0.4648 - val_loss: 3.2645 - val_accuracy: 0.6094\n",
            "Epoch 2/100\n",
            "32/32 [==============================] - 0s 4ms/step - loss: 1.5167 - accuracy: 0.6409 - val_loss: 1.2604 - val_accuracy: 0.6211\n",
            "Epoch 3/100\n",
            "32/32 [==============================] - 0s 4ms/step - loss: 0.9597 - accuracy: 0.6438 - val_loss: 1.4760 - val_accuracy: 0.6289\n",
            "Epoch 4/100\n",
            "32/32 [==============================] - 0s 4ms/step - loss: 0.8035 - accuracy: 0.6350 - val_loss: 1.5287 - val_accuracy: 0.6406\n",
            "Epoch 5/100\n",
            "32/32 [==============================] - 0s 4ms/step - loss: 0.6870 - accuracy: 0.6399 - val_loss: 3.0695 - val_accuracy: 0.6250\n",
            "Epoch 6/100\n",
            "32/32 [==============================] - 0s 4ms/step - loss: 1.3943 - accuracy: 0.6458 - val_loss: 1.0404 - val_accuracy: 0.6445\n",
            "Epoch 7/100\n",
            "32/32 [==============================] - 0s 3ms/step - loss: 0.6679 - accuracy: 0.6370 - val_loss: 0.9671 - val_accuracy: 0.6445\n",
            "Epoch 8/100\n",
            "32/32 [==============================] - 0s 4ms/step - loss: 0.6610 - accuracy: 0.6517 - val_loss: 0.6836 - val_accuracy: 0.6445\n",
            "Epoch 9/100\n",
            "32/32 [==============================] - 0s 4ms/step - loss: 0.6557 - accuracy: 0.6468 - val_loss: 0.7904 - val_accuracy: 0.6367\n",
            "Epoch 10/100\n",
            "32/32 [==============================] - 0s 4ms/step - loss: 0.6085 - accuracy: 0.6575 - val_loss: 0.9732 - val_accuracy: 0.6289\n",
            "Epoch 11/100\n",
            "32/32 [==============================] - 0s 4ms/step - loss: 0.6725 - accuracy: 0.6301 - val_loss: 0.9116 - val_accuracy: 0.6562\n",
            "Epoch 12/100\n",
            "32/32 [==============================] - 0s 4ms/step - loss: 0.6215 - accuracy: 0.6370 - val_loss: 0.7672 - val_accuracy: 0.6445\n",
            "Epoch 13/100\n",
            "32/32 [==============================] - 0s 3ms/step - loss: 0.6401 - accuracy: 0.6556 - val_loss: 0.8434 - val_accuracy: 0.6445\n",
            "Epoch 14/100\n",
            "32/32 [==============================] - 0s 4ms/step - loss: 0.6257 - accuracy: 0.6605 - val_loss: 0.8010 - val_accuracy: 0.6484\n",
            "Epoch 15/100\n",
            "32/32 [==============================] - 0s 4ms/step - loss: 0.6065 - accuracy: 0.6673 - val_loss: 0.8184 - val_accuracy: 0.6406\n",
            "Epoch 16/100\n",
            "32/32 [==============================] - 0s 4ms/step - loss: 0.6163 - accuracy: 0.6497 - val_loss: 0.8240 - val_accuracy: 0.6484\n",
            "Epoch 17/100\n",
            "32/32 [==============================] - 0s 3ms/step - loss: 0.6084 - accuracy: 0.6458 - val_loss: 0.8040 - val_accuracy: 0.6602\n",
            "Epoch 18/100\n",
            "32/32 [==============================] - 0s 4ms/step - loss: 0.6155 - accuracy: 0.6429 - val_loss: 0.7806 - val_accuracy: 0.6523\n",
            "Epoch 19/100\n",
            "32/32 [==============================] - 0s 4ms/step - loss: 0.6252 - accuracy: 0.6487 - val_loss: 0.7576 - val_accuracy: 0.6562\n",
            "Epoch 20/100\n",
            "32/32 [==============================] - 0s 4ms/step - loss: 0.6165 - accuracy: 0.6429 - val_loss: 0.8824 - val_accuracy: 0.6602\n",
            "Epoch 21/100\n",
            "32/32 [==============================] - 0s 3ms/step - loss: 0.6172 - accuracy: 0.6477 - val_loss: 0.7917 - val_accuracy: 0.6523\n",
            "Epoch 22/100\n",
            "32/32 [==============================] - 0s 4ms/step - loss: 0.6051 - accuracy: 0.6526 - val_loss: 0.7877 - val_accuracy: 0.6602\n",
            "Epoch 23/100\n",
            "32/32 [==============================] - 0s 4ms/step - loss: 0.5925 - accuracy: 0.6477 - val_loss: 0.8057 - val_accuracy: 0.6484\n",
            "Epoch 24/100\n",
            "32/32 [==============================] - 0s 4ms/step - loss: 0.6741 - accuracy: 0.6360 - val_loss: 0.9325 - val_accuracy: 0.6367\n",
            "Epoch 25/100\n",
            "32/32 [==============================] - 0s 3ms/step - loss: 0.6505 - accuracy: 0.6360 - val_loss: 0.8113 - val_accuracy: 0.6328\n",
            "Epoch 26/100\n",
            "32/32 [==============================] - 0s 3ms/step - loss: 0.6370 - accuracy: 0.6654 - val_loss: 0.7582 - val_accuracy: 0.6406\n",
            "Epoch 27/100\n",
            "32/32 [==============================] - 0s 4ms/step - loss: 0.6065 - accuracy: 0.6341 - val_loss: 0.7476 - val_accuracy: 0.6445\n",
            "Epoch 28/100\n",
            "32/32 [==============================] - 0s 4ms/step - loss: 0.6046 - accuracy: 0.6438 - val_loss: 0.8216 - val_accuracy: 0.6562\n",
            "Epoch 29/100\n",
            "32/32 [==============================] - 0s 4ms/step - loss: 0.6080 - accuracy: 0.6693 - val_loss: 0.7642 - val_accuracy: 0.6367\n",
            "Epoch 30/100\n",
            "32/32 [==============================] - 0s 3ms/step - loss: 0.5919 - accuracy: 0.6595 - val_loss: 0.8343 - val_accuracy: 0.6406\n",
            "Epoch 31/100\n",
            "32/32 [==============================] - 0s 3ms/step - loss: 0.6485 - accuracy: 0.6644 - val_loss: 0.9908 - val_accuracy: 0.6523\n",
            "Epoch 32/100\n",
            "32/32 [==============================] - 0s 3ms/step - loss: 0.6592 - accuracy: 0.6614 - val_loss: 0.7237 - val_accuracy: 0.6484\n",
            "Epoch 33/100\n",
            "32/32 [==============================] - 0s 4ms/step - loss: 0.5963 - accuracy: 0.6487 - val_loss: 0.6106 - val_accuracy: 0.6484\n",
            "Epoch 34/100\n",
            "32/32 [==============================] - 0s 4ms/step - loss: 0.5940 - accuracy: 0.6624 - val_loss: 0.6269 - val_accuracy: 0.6562\n",
            "Epoch 35/100\n",
            "32/32 [==============================] - 0s 3ms/step - loss: 0.5915 - accuracy: 0.6556 - val_loss: 0.5832 - val_accuracy: 0.6719\n",
            "Epoch 36/100\n",
            "32/32 [==============================] - 0s 4ms/step - loss: 0.6124 - accuracy: 0.6624 - val_loss: 1.1109 - val_accuracy: 0.6523\n",
            "Epoch 37/100\n",
            "32/32 [==============================] - 0s 4ms/step - loss: 0.6236 - accuracy: 0.6468 - val_loss: 0.8736 - val_accuracy: 0.6367\n",
            "Epoch 38/100\n",
            "32/32 [==============================] - 0s 4ms/step - loss: 0.6387 - accuracy: 0.6575 - val_loss: 1.1133 - val_accuracy: 0.6406\n",
            "Epoch 39/100\n",
            "32/32 [==============================] - 0s 4ms/step - loss: 0.6243 - accuracy: 0.6517 - val_loss: 0.8761 - val_accuracy: 0.6523\n",
            "Epoch 40/100\n",
            "32/32 [==============================] - 0s 4ms/step - loss: 0.6607 - accuracy: 0.6468 - val_loss: 1.4618 - val_accuracy: 0.6562\n",
            "Epoch 41/100\n",
            "32/32 [==============================] - 0s 4ms/step - loss: 0.6956 - accuracy: 0.6448 - val_loss: 1.1379 - val_accuracy: 0.6406\n",
            "Epoch 42/100\n",
            "32/32 [==============================] - 0s 4ms/step - loss: 0.6025 - accuracy: 0.6556 - val_loss: 1.1244 - val_accuracy: 0.6445\n",
            "Epoch 43/100\n",
            "32/32 [==============================] - 0s 3ms/step - loss: 0.6069 - accuracy: 0.6595 - val_loss: 1.1313 - val_accuracy: 0.6211\n",
            "Epoch 44/100\n",
            "32/32 [==============================] - 0s 3ms/step - loss: 0.6180 - accuracy: 0.6566 - val_loss: 1.0395 - val_accuracy: 0.6484\n",
            "Epoch 45/100\n",
            "32/32 [==============================] - 0s 4ms/step - loss: 0.6031 - accuracy: 0.6468 - val_loss: 1.1445 - val_accuracy: 0.6523\n",
            "Epoch 46/100\n",
            "32/32 [==============================] - 0s 4ms/step - loss: 0.6291 - accuracy: 0.6429 - val_loss: 1.1383 - val_accuracy: 0.6602\n",
            "Epoch 47/100\n",
            "32/32 [==============================] - 0s 4ms/step - loss: 0.6014 - accuracy: 0.6654 - val_loss: 1.1073 - val_accuracy: 0.6445\n",
            "Epoch 48/100\n",
            "32/32 [==============================] - 0s 3ms/step - loss: 0.6025 - accuracy: 0.6624 - val_loss: 1.1716 - val_accuracy: 0.6562\n",
            "Epoch 49/100\n",
            "32/32 [==============================] - 0s 4ms/step - loss: 0.6023 - accuracy: 0.6438 - val_loss: 1.1056 - val_accuracy: 0.6562\n",
            "Epoch 50/100\n",
            "32/32 [==============================] - 0s 4ms/step - loss: 0.6021 - accuracy: 0.6526 - val_loss: 1.1702 - val_accuracy: 0.6445\n",
            "Epoch 51/100\n",
            "32/32 [==============================] - 0s 4ms/step - loss: 0.6127 - accuracy: 0.6477 - val_loss: 1.1781 - val_accuracy: 0.6523\n",
            "Epoch 52/100\n",
            "32/32 [==============================] - 0s 4ms/step - loss: 0.5970 - accuracy: 0.6634 - val_loss: 1.0985 - val_accuracy: 0.6484\n",
            "Epoch 53/100\n",
            "32/32 [==============================] - 0s 4ms/step - loss: 0.5942 - accuracy: 0.6477 - val_loss: 1.1194 - val_accuracy: 0.6484\n",
            "Epoch 54/100\n",
            "32/32 [==============================] - 0s 4ms/step - loss: 0.5878 - accuracy: 0.6693 - val_loss: 1.1462 - val_accuracy: 0.6523\n",
            "Epoch 55/100\n",
            "32/32 [==============================] - 0s 4ms/step - loss: 0.5978 - accuracy: 0.6458 - val_loss: 1.0808 - val_accuracy: 0.6602\n",
            "Epoch 56/100\n",
            "32/32 [==============================] - 0s 3ms/step - loss: 0.6084 - accuracy: 0.6644 - val_loss: 1.1872 - val_accuracy: 0.6602\n",
            "Epoch 57/100\n",
            "32/32 [==============================] - 0s 4ms/step - loss: 0.5863 - accuracy: 0.6526 - val_loss: 1.1423 - val_accuracy: 0.6445\n",
            "Epoch 58/100\n",
            "32/32 [==============================] - 0s 4ms/step - loss: 0.5878 - accuracy: 0.6722 - val_loss: 1.2126 - val_accuracy: 0.6602\n",
            "Epoch 59/100\n",
            "32/32 [==============================] - 0s 4ms/step - loss: 0.5770 - accuracy: 0.6409 - val_loss: 1.2051 - val_accuracy: 0.6562\n",
            "Epoch 60/100\n",
            "32/32 [==============================] - 0s 4ms/step - loss: 0.5784 - accuracy: 0.6517 - val_loss: 1.1922 - val_accuracy: 0.6523\n",
            "Epoch 61/100\n",
            "32/32 [==============================] - 0s 4ms/step - loss: 0.5808 - accuracy: 0.6399 - val_loss: 1.1856 - val_accuracy: 0.6523\n",
            "Epoch 62/100\n",
            "32/32 [==============================] - 0s 4ms/step - loss: 0.5662 - accuracy: 0.6732 - val_loss: 1.1956 - val_accuracy: 0.6523\n",
            "Epoch 63/100\n",
            "32/32 [==============================] - 0s 4ms/step - loss: 0.5803 - accuracy: 0.6497 - val_loss: 1.2133 - val_accuracy: 0.6562\n",
            "Epoch 64/100\n",
            "32/32 [==============================] - 0s 4ms/step - loss: 0.5784 - accuracy: 0.6722 - val_loss: 1.1276 - val_accuracy: 0.6523\n",
            "Epoch 65/100\n",
            "32/32 [==============================] - 0s 4ms/step - loss: 0.5931 - accuracy: 0.6477 - val_loss: 1.2321 - val_accuracy: 0.6484\n",
            "Epoch 66/100\n",
            "32/32 [==============================] - 0s 4ms/step - loss: 0.6021 - accuracy: 0.6458 - val_loss: 1.1674 - val_accuracy: 0.6602\n",
            "Epoch 67/100\n",
            "32/32 [==============================] - 0s 4ms/step - loss: 0.6020 - accuracy: 0.6438 - val_loss: 1.1909 - val_accuracy: 0.6484\n",
            "Epoch 68/100\n",
            "32/32 [==============================] - 0s 4ms/step - loss: 0.5752 - accuracy: 0.6438 - val_loss: 1.2091 - val_accuracy: 0.6602\n",
            "Epoch 69/100\n",
            "32/32 [==============================] - 0s 4ms/step - loss: 0.5745 - accuracy: 0.6693 - val_loss: 1.1791 - val_accuracy: 0.6641\n",
            "Epoch 70/100\n",
            "32/32 [==============================] - 0s 4ms/step - loss: 0.5710 - accuracy: 0.6507 - val_loss: 1.1854 - val_accuracy: 0.6484\n",
            "Epoch 71/100\n",
            "32/32 [==============================] - 0s 4ms/step - loss: 0.5814 - accuracy: 0.6546 - val_loss: 1.1833 - val_accuracy: 0.6562\n",
            "Epoch 72/100\n",
            "32/32 [==============================] - 0s 4ms/step - loss: 0.5744 - accuracy: 0.6536 - val_loss: 1.1758 - val_accuracy: 0.6523\n",
            "Epoch 73/100\n",
            "32/32 [==============================] - 0s 4ms/step - loss: 0.5701 - accuracy: 0.6595 - val_loss: 1.1763 - val_accuracy: 0.6445\n",
            "Epoch 74/100\n",
            "32/32 [==============================] - 0s 4ms/step - loss: 0.5652 - accuracy: 0.6595 - val_loss: 1.1751 - val_accuracy: 0.6445\n",
            "Epoch 75/100\n",
            "32/32 [==============================] - 0s 4ms/step - loss: 0.5707 - accuracy: 0.6595 - val_loss: 1.1878 - val_accuracy: 0.6523\n",
            "Epoch 76/100\n",
            "32/32 [==============================] - 0s 4ms/step - loss: 0.5788 - accuracy: 0.6487 - val_loss: 1.1814 - val_accuracy: 0.6445\n",
            "Epoch 77/100\n",
            "32/32 [==============================] - 0s 4ms/step - loss: 0.5751 - accuracy: 0.6624 - val_loss: 1.1985 - val_accuracy: 0.6406\n",
            "Epoch 78/100\n",
            "32/32 [==============================] - 0s 4ms/step - loss: 0.5883 - accuracy: 0.6585 - val_loss: 1.2189 - val_accuracy: 0.6523\n",
            "Epoch 79/100\n",
            "32/32 [==============================] - 0s 4ms/step - loss: 0.6448 - accuracy: 0.6644 - val_loss: 1.2396 - val_accuracy: 0.6445\n",
            "Epoch 80/100\n",
            "32/32 [==============================] - 0s 4ms/step - loss: 0.6158 - accuracy: 0.6712 - val_loss: 1.1277 - val_accuracy: 0.6211\n",
            "Epoch 81/100\n",
            "32/32 [==============================] - 0s 4ms/step - loss: 0.7586 - accuracy: 0.6331 - val_loss: 1.1853 - val_accuracy: 0.6211\n",
            "Epoch 82/100\n",
            "32/32 [==============================] - 0s 4ms/step - loss: 0.7062 - accuracy: 0.6526 - val_loss: 1.4826 - val_accuracy: 0.6289\n",
            "Epoch 83/100\n",
            "32/32 [==============================] - 0s 4ms/step - loss: 0.6636 - accuracy: 0.6301 - val_loss: 0.7410 - val_accuracy: 0.6367\n",
            "Epoch 84/100\n",
            "32/32 [==============================] - 0s 3ms/step - loss: 1.4845 - accuracy: 0.6634 - val_loss: 0.6804 - val_accuracy: 0.6172\n",
            "Epoch 85/100\n",
            "32/32 [==============================] - 0s 4ms/step - loss: 0.7792 - accuracy: 0.6272 - val_loss: 0.6475 - val_accuracy: 0.6250\n",
            "Epoch 86/100\n",
            "32/32 [==============================] - 0s 4ms/step - loss: 2.8817 - accuracy: 0.6370 - val_loss: 4.9328 - val_accuracy: 0.6445\n",
            "Epoch 87/100\n",
            "32/32 [==============================] - 0s 4ms/step - loss: 1.8822 - accuracy: 0.6438 - val_loss: 0.9766 - val_accuracy: 0.6367\n",
            "Epoch 88/100\n",
            "32/32 [==============================] - 0s 6ms/step - loss: 0.7769 - accuracy: 0.6556 - val_loss: 1.1059 - val_accuracy: 0.6406\n",
            "Epoch 89/100\n",
            "32/32 [==============================] - 0s 8ms/step - loss: 0.6395 - accuracy: 0.6556 - val_loss: 1.1129 - val_accuracy: 0.6523\n",
            "Epoch 90/100\n",
            "32/32 [==============================] - 0s 8ms/step - loss: 0.6096 - accuracy: 0.6614 - val_loss: 1.3720 - val_accuracy: 0.6445\n",
            "Epoch 91/100\n",
            "32/32 [==============================] - 0s 5ms/step - loss: 0.6130 - accuracy: 0.6468 - val_loss: 1.1942 - val_accuracy: 0.6484\n",
            "Epoch 92/100\n",
            "32/32 [==============================] - 0s 4ms/step - loss: 0.6174 - accuracy: 0.6487 - val_loss: 1.1226 - val_accuracy: 0.6484\n",
            "Epoch 93/100\n",
            "32/32 [==============================] - 0s 8ms/step - loss: 0.6077 - accuracy: 0.6477 - val_loss: 1.3162 - val_accuracy: 0.6367\n",
            "Epoch 94/100\n",
            "32/32 [==============================] - 0s 7ms/step - loss: 0.6177 - accuracy: 0.6556 - val_loss: 0.9942 - val_accuracy: 0.6367\n",
            "Epoch 95/100\n",
            "32/32 [==============================] - 0s 6ms/step - loss: 0.6249 - accuracy: 0.6429 - val_loss: 1.1585 - val_accuracy: 0.6484\n",
            "Epoch 96/100\n",
            "32/32 [==============================] - 0s 5ms/step - loss: 0.5974 - accuracy: 0.6722 - val_loss: 1.2211 - val_accuracy: 0.6328\n",
            "Epoch 97/100\n",
            "32/32 [==============================] - 0s 7ms/step - loss: 0.5877 - accuracy: 0.6477 - val_loss: 1.2612 - val_accuracy: 0.6328\n",
            "Epoch 98/100\n",
            "32/32 [==============================] - 0s 5ms/step - loss: 0.5974 - accuracy: 0.6673 - val_loss: 1.2097 - val_accuracy: 0.6445\n",
            "Epoch 99/100\n",
            "32/32 [==============================] - 0s 7ms/step - loss: 0.6089 - accuracy: 0.6497 - val_loss: 1.1970 - val_accuracy: 0.6289\n",
            "Epoch 100/100\n",
            "32/32 [==============================] - 0s 5ms/step - loss: 0.6071 - accuracy: 0.6673 - val_loss: 1.0776 - val_accuracy: 0.6367\n",
            "10/10 - 0s - loss: 0.6760 - accuracy: 0.6687 - 22ms/epoch - 2ms/step\n",
            "Test loss: 0.6759740114212036\n",
            "Test accuracy: 0.668749988079071\n"
          ]
        }
      ]
    },
    {
      "cell_type": "code",
      "source": [
        "model.save(\"/content/abc_model.h5\")\n",
        "del model\n",
        "# Recreate the exact same model purely from the file:\n",
        "model = models.load_model(\"/content/abc_model.h5\")"
      ],
      "metadata": {
        "id": "ET4-G3JmpbYe"
      },
      "execution_count": null,
      "outputs": []
    },
    {
      "cell_type": "code",
      "source": [
        "!pip install coremltools\n",
        "!pip install scikit-learn==0.19.2\n",
        "!pip install tensorflow==2.5.0"
      ],
      "metadata": {
        "colab": {
          "base_uri": "https://localhost:8080/"
        },
        "id": "9WYpZNa6HWJa",
        "outputId": "d4a14abc-5f81-4729-ddce-d68001df7ad2"
      },
      "execution_count": null,
      "outputs": [
        {
          "output_type": "stream",
          "name": "stdout",
          "text": [
            "Collecting coremltools\n",
            "  Downloading coremltools-5.1.0-cp37-none-manylinux1_x86_64.whl (1.6 MB)\n",
            "\u001b[K     |████████████████████████████████| 1.6 MB 13.1 MB/s \n",
            "\u001b[?25hRequirement already satisfied: tqdm in /usr/local/lib/python3.7/dist-packages (from coremltools) (4.62.3)\n",
            "Requirement already satisfied: packaging in /usr/local/lib/python3.7/dist-packages (from coremltools) (21.3)\n",
            "Requirement already satisfied: numpy>=1.14.5 in /usr/local/lib/python3.7/dist-packages (from coremltools) (1.19.5)\n",
            "Requirement already satisfied: protobuf>=3.1.0 in /usr/local/lib/python3.7/dist-packages (from coremltools) (3.17.3)\n",
            "Requirement already satisfied: sympy in /usr/local/lib/python3.7/dist-packages (from coremltools) (1.7.1)\n",
            "Requirement already satisfied: six>=1.9 in /usr/local/lib/python3.7/dist-packages (from protobuf>=3.1.0->coremltools) (1.15.0)\n",
            "Requirement already satisfied: pyparsing!=3.0.5,>=2.0.2 in /usr/local/lib/python3.7/dist-packages (from packaging->coremltools) (3.0.7)\n",
            "Requirement already satisfied: mpmath>=0.19 in /usr/local/lib/python3.7/dist-packages (from sympy->coremltools) (1.2.1)\n",
            "Installing collected packages: coremltools\n",
            "Successfully installed coremltools-5.1.0\n"
          ]
        }
      ]
    },
    {
      "cell_type": "code",
      "source": [
        "import coremltools as ct\n",
        "\n",
        "# convert to Core ML and check predictions\n",
        "mlmodel = ct.convert(model)"
      ],
      "metadata": {
        "colab": {
          "base_uri": "https://localhost:8080/"
        },
        "id": "iwdilveiqP1e",
        "outputId": "b52cd2b1-6c98-4d24-d19d-640c7f7133aa"
      },
      "execution_count": null,
      "outputs": [
        {
          "output_type": "stream",
          "name": "stderr",
          "text": [
            "WARNING:root:scikit-learn version 1.0.2 is not supported. Minimum required version: 0.17. Maximum required version: 0.19.2. Disabling scikit-learn conversion API.\n",
            "WARNING:root:TensorFlow version 2.7.0 has not been tested with coremltools. You may run into unexpected errors. TensorFlow 2.5.0 is the most recent version that has been tested.\n",
            "WARNING:root:Keras version 2.7.0 has not been tested with coremltools. You may run into unexpected errors. Keras 2.2.4 is the most recent version that has been tested.\n",
            "WARNING:root:Torch version 1.10.0+cu111 has not been tested with coremltools. You may run into unexpected errors. Torch 1.9.1 is the most recent version that has been tested.\n",
            "Running TensorFlow Graph Passes: 100%|██████████| 5/5 [00:00<00:00, 19.44 passes/s]\n",
            "Converting Frontend ==> MIL Ops: 100%|██████████| 12/12 [00:00<00:00, 2156.36 ops/s]\n",
            "Running MIL Common passes: 100%|██████████| 34/34 [00:00<00:00, 2492.51 passes/s]\n",
            "Running MIL Clean up passes: 100%|██████████| 9/9 [00:00<00:00, 1256.70 passes/s]\n",
            "Translating MIL ==> NeuralNetwork Ops: 100%|██████████| 9/9 [00:00<00:00, 6503.92 ops/s]\n"
          ]
        }
      ]
    },
    {
      "cell_type": "code",
      "source": [
        "mlmodel.save(\"abc.mlmodel\")"
      ],
      "metadata": {
        "id": "F_RUPqj5qqfk"
      },
      "execution_count": null,
      "outputs": []
    },
    {
      "cell_type": "code",
      "source": [
        ""
      ],
      "metadata": {
        "id": "SQ71UgWgq0cw"
      },
      "execution_count": null,
      "outputs": []
    }
  ]
}